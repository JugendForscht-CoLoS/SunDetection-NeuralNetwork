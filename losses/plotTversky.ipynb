{
 "cells": [
  {
   "cell_type": "code",
   "execution_count": 27,
   "metadata": {},
   "outputs": [],
   "source": [
    "import matplotlib.pyplot as plt\n",
    "from matplotlib import cm\n",
    "import numpy as np\n",
    "\n",
    "X_MAX = 5e4\n",
    "alpha = 0.98\n",
    "\n",
    "def tversky(fn, fp, c):\n",
    "    tp = X_MAX - fn\n",
    "    index = (tp + c) / (tp + alpha*fn + (1 - alpha)*fp + c)\n",
    "    return (1 - index)"
   ]
  },
  {
   "cell_type": "code",
   "execution_count": null,
   "metadata": {},
   "outputs": [],
   "source": [
    "fig = plt.figure(figsize=(10,60))\n",
    "\n",
    "x = np.arange(0, X_MAX, 1e2)\n",
    "y = np.arange(0, 4e6, 1e3)\n",
    "x, y = np.meshgrid(x, y)\n",
    "\n",
    "\n",
    "for i in range(0,4):\n",
    "    z = tversky(x, y, 10**i)\n",
    "    \n",
    "    axes = fig.add_subplot(1,1,1, projection='3d')\n",
    "    axes.set_zlim(0,1)\n",
    "    axes.plot_surface(x, y, z, rstride=1, cstride=1, cmap=cm.coolwarm, linewidth=0, antialiased=False)\n",
    "\n",
    "fig.tight_layout()\n",
    "plt.show()"
   ]
  },
  {
   "cell_type": "code",
   "execution_count": null,
   "metadata": {},
   "outputs": [],
   "source": []
  }
 ],
 "metadata": {
  "kernelspec": {
   "display_name": "Python 3",
   "language": "python",
   "name": "python3"
  },
  "language_info": {
   "codemirror_mode": {
    "name": "ipython",
    "version": 3
   },
   "file_extension": ".py",
   "mimetype": "text/x-python",
   "name": "python",
   "nbconvert_exporter": "python",
   "pygments_lexer": "ipython3",
   "version": "3.8.5"
  }
 },
 "nbformat": 4,
 "nbformat_minor": 4
}
